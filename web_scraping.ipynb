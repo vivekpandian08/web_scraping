{
 "cells": [
  {
   "cell_type": "code",
   "execution_count": 1,
   "metadata": {},
   "outputs": [],
   "source": [
    "from urllib.request import urlopen as ureq\n",
    "from bs4 import BeautifulSoup as soup"
   ]
  },
  {
   "cell_type": "code",
   "execution_count": 2,
   "metadata": {},
   "outputs": [],
   "source": [
    "my_url='https://www.tripadvisor.com/Hotel_Review-g60763-d504589-Reviews-American_Dream_Hostel-New_York_City_New_York.html#REVIEWS'"
   ]
  },
  {
   "cell_type": "code",
   "execution_count": 3,
   "metadata": {},
   "outputs": [
    {
     "data": {
      "text/plain": [
       "'https://www.tripadvisor.com/Hotel_Review-g60763-d504589-Reviews-American_Dream_Hostel-New_York_City_New_York.html#REVIEWS'"
      ]
     },
     "execution_count": 3,
     "metadata": {},
     "output_type": "execute_result"
    }
   ],
   "source": [
    "my_url"
   ]
  },
  {
   "cell_type": "code",
   "execution_count": 4,
   "metadata": {},
   "outputs": [],
   "source": [
    "client=ureq(my_url)"
   ]
  },
  {
   "cell_type": "code",
   "execution_count": 5,
   "metadata": {},
   "outputs": [],
   "source": [
    "html_page=client.read()\n"
   ]
  },
  {
   "cell_type": "code",
   "execution_count": 6,
   "metadata": {},
   "outputs": [],
   "source": [
    "client.close()"
   ]
  },
  {
   "cell_type": "code",
   "execution_count": 7,
   "metadata": {},
   "outputs": [],
   "source": [
    "page_bs=soup(html_page,\"html.parser\")"
   ]
  },
  {
   "cell_type": "code",
   "execution_count": 9,
   "metadata": {},
   "outputs": [],
   "source": [
    "review=page_bs.findAll(\"div\",{\"class\":\"hotels-review-list-parts-ExpandableReview__containerStyles--2IVer\"})"
   ]
  },
  {
   "cell_type": "code",
   "execution_count": null,
   "metadata": {},
   "outputs": [],
   "source": [
    "#hotels-review-list-parts-SingleReview__reviewContainer--d54T4\n",
    "#react-container\n",
    "#hotels-review-list-parts-ExpandableReview__containerStyles--2IVer"
   ]
  },
  {
   "cell_type": "code",
   "execution_count": 11,
   "metadata": {},
   "outputs": [
    {
     "data": {
      "text/plain": [
       "5"
      ]
     },
     "execution_count": 11,
     "metadata": {},
     "output_type": "execute_result"
    }
   ],
   "source": [
    "len(review)"
   ]
  },
  {
   "cell_type": "code",
   "execution_count": 12,
   "metadata": {},
   "outputs": [
    {
     "data": {
      "text/plain": [
       "\"When you are looking for reasonably priced accommodation in Manhattan you won't have too many options! This hostel has a great location near many bus and subway lines, and walking distance to some of the midtown sights. It's on a relatively quiet street considering you're in the middle of a busy city. I felt perfectly safe as a solo female walking around the area late at night.  The room is basic - I would say not as nice looking as the photos on the website make it seem - and the mattress really needed replacing. However - both my room and the shared facilities seemed clean, it had aircon, and I never had to wait for the shared shower / toilet.   Breakfast is included which is nice - fruit / bagels / various muffins or cakes and donuts / waffles. There is a fridge and some shared kitchen facilities for basic cooking.  I have marked this down slightly as I really felt the staff could have been a bit friendlier - I rarely got greeted when I came in or out, and despite being there for a week no one asked me how my stay was. When I said hello to one of the ladies preparing breakfast, I barely got a response, and she then proceeded to say the kitchen was too small as a couple of us were stood up at the table putting food on our plates when she was trying to get by. It's worth mentioning also that this isn't a party hostel or a particularly social hostel - I was a solo traveller but didn't meet any one else to go out with, which was fine as I wasn't really looking for that.  Overall I would stay again - the location and clean facilities sold it to me.…\""
      ]
     },
     "execution_count": 12,
     "metadata": {},
     "output_type": "execute_result"
    }
   ],
   "source": [
    "rew=review[1]\n",
    "x=rew.q.text\n",
    "x"
   ]
  }
 ],
 "metadata": {
  "kernelspec": {
   "display_name": "Python 3",
   "language": "python",
   "name": "python3"
  },
  "language_info": {
   "codemirror_mode": {
    "name": "ipython",
    "version": 3
   },
   "file_extension": ".py",
   "mimetype": "text/x-python",
   "name": "python",
   "nbconvert_exporter": "python",
   "pygments_lexer": "ipython3",
   "version": "3.7.1"
  }
 },
 "nbformat": 4,
 "nbformat_minor": 2
}
